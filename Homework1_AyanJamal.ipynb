{
  "nbformat": 4,
  "nbformat_minor": 0,
  "metadata": {
    "colab": {
      "name": "Homework1.ipynb",
      "provenance": [],
      "include_colab_link": true
    },
    "kernelspec": {
      "name": "python3",
      "display_name": "Python 3"
    },
    "language_info": {
      "name": "python"
    }
  },
  "cells": [
    {
      "cell_type": "markdown",
      "metadata": {
        "id": "view-in-github",
        "colab_type": "text"
      },
      "source": [
        "<a href=\"https://colab.research.google.com/github/ayannj13/Data-Science/blob/main/Homework1_AyanJamal.ipynb\" target=\"_parent\"><img src=\"https://colab.research.google.com/assets/colab-badge.svg\" alt=\"Open In Colab\"/></a>"
      ]
    },
    {
      "cell_type": "code",
      "execution_count": 40,
      "metadata": {
        "colab": {
          "base_uri": "https://localhost:8080/"
        },
        "id": "jrVeHsm1rpdT",
        "outputId": "c52fcd51-ebfe-4a6f-cd96-13363c92eb9c"
      },
      "outputs": [
        {
          "output_type": "stream",
          "name": "stdout",
          "text": [
            "What is your name? Ayan\n",
            "What is your age? 20\n",
            "Your name is Ayan. Your age is 20\n"
          ]
        }
      ],
      "source": [
        "#Q1-Get your name and age as input and print it in the form like\n",
        "#Your name is Hulisi. Your age is 43\n",
        "name=input('What is your name? ')\n",
        "age=input('What is your age? ')\n",
        "print(f\"Your name is {name}. Your age is {age}\")"
      ]
    },
    {
      "cell_type": "code",
      "source": [
        "#Q2-Write a if statement for a given two number is equal or not\n",
        "a=43\n",
        "b=54\n",
        "\n",
        "a=43\n",
        "b=54\n",
        "\n",
        "if a == b:\n",
        "  print(\"a and b are equal\")\n",
        "else:\n",
        "    print(\"a and b are not equal\")"
      ],
      "metadata": {
        "id": "7Sfg03_PuVWa",
        "outputId": "74bf3fd7-2617-46ba-8536-03975a1d9de0",
        "colab": {
          "base_uri": "https://localhost:8080/"
        }
      },
      "execution_count": 2,
      "outputs": [
        {
          "output_type": "stream",
          "name": "stdout",
          "text": [
            "a and b are not equal\n"
          ]
        }
      ]
    },
    {
      "cell_type": "code",
      "source": [
        "#Q3-Write a if statement for first number is greater (a), equal or less than second number.(b)\n",
        "a=43\n",
        "b=54\n",
        "\n",
        "a=43\n",
        "b=54\n",
        "\n",
        "if a > b:\n",
        "  print(\"a is greater than b\")\n",
        "elif a < b:\n",
        "  print(\"a is less than b\")\n",
        "else:\n",
        "  print(\"a and b are equal\")\n"
      ],
      "metadata": {
        "id": "NtUibZ07u5gs",
        "outputId": "12193dcd-98e6-4086-f6d6-251abd18e9d7",
        "colab": {
          "base_uri": "https://localhost:8080/"
        }
      },
      "execution_count": 3,
      "outputs": [
        {
          "output_type": "stream",
          "name": "stdout",
          "text": [
            "a is less than b\n"
          ]
        }
      ]
    },
    {
      "cell_type": "code",
      "source": [
        "#Q4- Using for loop, print 1,2,3,4,5\n",
        "for k in range(1,6):\n",
        "  print(k)"
      ],
      "metadata": {
        "id": "U1UMQv36wNHP",
        "outputId": "191220ed-c006-407c-e726-d3ea5983cb9a",
        "colab": {
          "base_uri": "https://localhost:8080/"
        }
      },
      "execution_count": 4,
      "outputs": [
        {
          "output_type": "stream",
          "name": "stdout",
          "text": [
            "1\n",
            "2\n",
            "3\n",
            "4\n",
            "5\n"
          ]
        }
      ]
    },
    {
      "cell_type": "code",
      "source": [
        "#Q5-Using while loop, print 5,4,3,2,1\n",
        "k=5\n",
        "while k>0:\n",
        "  print(k)\n",
        "  k-=1"
      ],
      "metadata": {
        "id": "bh5Lga7XxGY8",
        "outputId": "4ad16634-b19e-48bc-fd5c-9dc3e648ae14",
        "colab": {
          "base_uri": "https://localhost:8080/"
        }
      },
      "execution_count": 5,
      "outputs": [
        {
          "output_type": "stream",
          "name": "stdout",
          "text": [
            "5\n",
            "4\n",
            "3\n",
            "2\n",
            "1\n"
          ]
        }
      ]
    },
    {
      "cell_type": "code",
      "source": [
        "#Q6- Using for loop, print 10,6,4,2,0\n",
        "#Hint Print if number is not equal to 8.\n",
        "\n",
        "\n",
        "for k in range(10, -1, -2):\n",
        "    if k == 8:\n",
        "        continue\n",
        "    print(k)\n"
      ],
      "metadata": {
        "id": "cXTTDS49xSoi",
        "outputId": "59bded5a-0eed-42d5-e43f-60a43e2a054d",
        "colab": {
          "base_uri": "https://localhost:8080/"
        }
      },
      "execution_count": 38,
      "outputs": [
        {
          "output_type": "stream",
          "name": "stdout",
          "text": [
            "10\n",
            "6\n",
            "4\n",
            "2\n",
            "0\n"
          ]
        }
      ]
    },
    {
      "cell_type": "code",
      "source": [
        "#Q7-Write a method to calculate age for a given date of birth year.\n",
        "#Use this method on orer to calculate age of person if date of birth is 1944\n",
        "# if age is the name of function, print(age(1944))\n",
        "\n",
        "def age(birth_year):\n",
        "    current_year = 2025 # noted the current year here\n",
        "    return current_year - birth_year  #get the age by subtracting the birth year from current year\n",
        "\n",
        "print(age(1944))\n"
      ],
      "metadata": {
        "id": "geUjb-vuyYbF",
        "outputId": "c636db75-1a31-4bc2-c24c-d3a68f3d45cf",
        "colab": {
          "base_uri": "https://localhost:8080/"
        }
      },
      "execution_count": 22,
      "outputs": [
        {
          "output_type": "stream",
          "name": "stdout",
          "text": [
            "81\n"
          ]
        }
      ]
    },
    {
      "cell_type": "code",
      "source": [
        "#Q8-Write a class named arithmetic with method for calculating addition, substraction, multiplication and division of two numbers.\n",
        "class arithmetic:\n",
        "    def addition(x,y):\n",
        "        return x+y\n",
        "    def subtraction(x,y):\n",
        "        return x-y\n",
        "    def multiplication(x,y):\n",
        "        return x*y\n",
        "    def division(x,y):\n",
        "        if y == 0:\n",
        "            return \"Error! Division by 0\" # we can't divide by 0\n",
        "        return x/y\n",
        "\n",
        "print(arithmetic.addition(3,4))\n",
        "print(arithmetic.subtraction(9,4))\n",
        "print(arithmetic.multiplication(3,5))\n",
        "print(arithmetic.division(10,1))"
      ],
      "metadata": {
        "id": "YcyFzE3fzC7_",
        "outputId": "f2a3ae9e-ea7e-4aff-bc58-b8472f736c54",
        "colab": {
          "base_uri": "https://localhost:8080/"
        }
      },
      "execution_count": 23,
      "outputs": [
        {
          "output_type": "stream",
          "name": "stdout",
          "text": [
            "7\n",
            "5\n",
            "15\n",
            "10.0\n"
          ]
        }
      ]
    },
    {
      "cell_type": "code",
      "source": [
        "#Q9- write a for loop or method  to calculate summation of first n numbers\n",
        "#i.e if n=3, it will print or return 6 (1+2+3)\n",
        "\n",
        "def sum(n):\n",
        "    final_sum=0 #initialize sum\n",
        "\n",
        "    for i in range (1, n+1):\n",
        "        final_sum+=i\n",
        "    return final_sum\n",
        "\n",
        "print(sum(5))"
      ],
      "metadata": {
        "id": "AUJWr5YqzadI",
        "outputId": "1d21127e-a5e7-4721-c5d1-eb701b8ba164",
        "colab": {
          "base_uri": "https://localhost:8080/"
        }
      },
      "execution_count": 24,
      "outputs": [
        {
          "output_type": "stream",
          "name": "stdout",
          "text": [
            "15\n"
          ]
        }
      ]
    },
    {
      "cell_type": "code",
      "source": [
        "#Q10-Generate 10 numbers between 0 and 1 and add into list. Print first three elements of that list.\n",
        "\n",
        "import random\n",
        "#random numbers between 0 and 1\n",
        "random_nums = [random.random() for _ in range(10)]\n",
        "print(random_nums[:3])"
      ],
      "metadata": {
        "id": "hmtvJdCL02qx",
        "outputId": "90eff033-069e-4f5c-bbc3-711fb495ab7f",
        "colab": {
          "base_uri": "https://localhost:8080/"
        }
      },
      "execution_count": 45,
      "outputs": [
        {
          "output_type": "stream",
          "name": "stdout",
          "text": [
            "[0.5202203008207079, 0.8720011458892485, 0.9771383798403078]\n"
          ]
        }
      ]
    },
    {
      "cell_type": "code",
      "source": [
        "#Q11-For a given number n, print numbers divisible by 3 up to that number(n included)\n",
        "#Example: if n=15, print 3,6,9,12,15\n",
        "#Hint you can use modulus statement (if (i%3==0))\n",
        "\n",
        "n=15\n",
        "\n",
        "for i in range(1, n + 1):\n",
        "    if i % 3 == 0:\n",
        "        print(i, end=\", \" if i < n and (i+3) <= n else \"\")"
      ],
      "metadata": {
        "id": "5O6Y2CujcAAs",
        "outputId": "d40de352-1234-410f-812a-89cd92d9933d",
        "colab": {
          "base_uri": "https://localhost:8080/"
        }
      },
      "execution_count": 43,
      "outputs": [
        {
          "output_type": "stream",
          "name": "stdout",
          "text": [
            "3, 6, 9, 12, 15"
          ]
        }
      ]
    }
  ]
}